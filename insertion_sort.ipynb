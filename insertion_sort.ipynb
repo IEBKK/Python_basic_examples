{
 "cells": [
  {
   "cell_type": "code",
   "execution_count": null,
   "metadata": {},
   "outputs": [],
   "source": [
    "def insertion_sort(my_list):# 삽입 정렬\n",
    "    for i in range(len(my_list)):\n",
    "        key = my_list[i]\n",
    "\n",
    "        # i - 1부터 시작해서 왼쪽으로 하나씩 확인\n",
    "        # 왼쪽 끝까지(0번 인덱스) 다 봤거나\n",
    "        # key가 들어갈 자리를 찾으면 끝냄\n",
    "        j = i - 1\n",
    "        while j >= 0 and my_list[j] > key:\n",
    "            my_list[j + 1] = my_list[j]\n",
    "            j = j - 1\n",
    "\n",
    "        # key가 들어갈 자리에 삽입\n",
    "        # 왼쪽 끝까지 가서 j가 -1이면 0번 인덱스에 key를 삽입\n",
    "        my_list[j + 1] = key\n",
    "\n",
    "some_list = [11, 3, 6, 4, 12, 1, 2]\n",
    "insertion_sort(some_list)\n",
    "print(some_list)    "
   ]
  },
  {
   "cell_type": "code",
   "execution_count": null,
   "metadata": {},
   "outputs": [],
   "source": []
  },
  {
   "cell_type": "code",
   "execution_count": null,
   "metadata": {},
   "outputs": [],
   "source": []
  },
  {
   "cell_type": "code",
   "execution_count": null,
   "metadata": {},
   "outputs": [],
   "source": []
  },
  {
   "cell_type": "code",
   "execution_count": null,
   "metadata": {},
   "outputs": [],
   "source": []
  }
 ],
 "metadata": {
  "kernelspec": {
   "display_name": "Python 3",
   "language": "python",
   "name": "python3"
  },
  "language_info": {
   "codemirror_mode": {
    "name": "ipython",
    "version": 3
   },
   "file_extension": ".py",
   "mimetype": "text/x-python",
   "name": "python",
   "nbconvert_exporter": "python",
   "pygments_lexer": "ipython3",
   "version": "3.6.7"
  }
 },
 "nbformat": 4,
 "nbformat_minor": 2
}
