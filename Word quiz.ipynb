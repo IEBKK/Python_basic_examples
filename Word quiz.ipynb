{
 "cells": [
  {
   "cell_type": "code",
   "execution_count": null,
   "metadata": {},
   "outputs": [
    {
     "name": "stdout",
     "output_type": "stream",
     "text": [
      "고양이: cat\n",
      "고양이\n",
      "cat\n",
      "맞았습니다!\n"
     ]
    }
   ],
   "source": [
    "# 단어장 텍스트 파일 불러오기\n",
    "in_file = open('vocabulary.txt', 'r')\n",
    "\n",
    "# 문제 불러오기 및 정답 입력\n",
    "for line in in_file:\n",
    "    #print(line.strip())\n",
    "    #print(line.split(\": \"))\n",
    "    #print(line.strip().split(\": \"))\n",
    "    words = line.strip().split(\": \")\n",
    "    answer = input(\"%s: \" % (words[1]))\n",
    "    \n",
    "# 정답 판별\n",
    "    if words[0] == answer:\n",
    "        print(\"맞았습니다!\")\n",
    "    else:\n",
    "        print(\"아쉽습니다. 정답은 %s입니다.\" % (words[0]))\n",
    "in_file.close()\n",
    "\n"
   ]
  },
  {
   "cell_type": "code",
   "execution_count": null,
   "metadata": {},
   "outputs": [],
   "source": []
  }
 ],
 "metadata": {
  "kernelspec": {
   "display_name": "Python 3",
   "language": "python",
   "name": "python3"
  },
  "language_info": {
   "codemirror_mode": {
    "name": "ipython",
    "version": 3
   },
   "file_extension": ".py",
   "mimetype": "text/x-python",
   "name": "python",
   "nbconvert_exporter": "python",
   "pygments_lexer": "ipython3",
   "version": "3.6.7"
  }
 },
 "nbformat": 4,
 "nbformat_minor": 2
}
