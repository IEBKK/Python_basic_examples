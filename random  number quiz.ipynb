{
 "cells": [
  {
   "cell_type": "code",
   "execution_count": 17,
   "metadata": {},
   "outputs": [
    {
     "name": "stdout",
     "output_type": "stream",
     "text": [
      "기회가 4번 남았습니다. 1-20 사이의 숫자를 맞춰보세요:8\n",
      "축하합니다. 1번만에 숫자를 맞추셨습니다.\n"
     ]
    }
   ],
   "source": [
    "from random import randint\n",
    "\n",
    "chance = 4\n",
    "num = randint(1, 20)\n",
    "\n",
    "while chance >= 0:\n",
    "    \n",
    "    ans = int(input(\"기회가 %d번 남았습니다. 1-20 사이의 숫자를 맞춰보세요:\" % (chance)))\n",
    "    \n",
    "    if num == ans:\n",
    "        print(\"축하합니다. %d번만에 숫자를 맞추셨습니다.\" % (5 - chance))\n",
    "        break\n",
    "    elif num > ans:\n",
    "        print(\"Up\")\n",
    "    elif num < ans:\n",
    "        print(\"Down\")\n",
    "    chance = chance - 1\n",
    "    \n",
    "    if chance == 0 and num != ans:\n",
    "        print(\"아쉽습니다. 정답은 %d였습니다.\" % (num))\n",
    "        break\n",
    "    "
   ]
  },
  {
   "cell_type": "code",
   "execution_count": 20,
   "metadata": {},
   "outputs": [
    {
     "name": "stdout",
     "output_type": "stream",
     "text": [
      "기회가 4번 남았습니다. 1-20 사이의 숫자를 맞춰보세요:8\n",
      "Down\n",
      "기회가 3번 남았습니다. 1-20 사이의 숫자를 맞춰보세요:5\n",
      "Down\n",
      "기회가 2번 남았습니다. 1-20 사이의 숫자를 맞춰보세요:3\n",
      "Down\n",
      "기회가 1번 남았습니다. 1-20 사이의 숫자를 맞춰보세요:1\n",
      "축하합니다. 4번만에 숫자를 맞추셨습니다\n"
     ]
    }
   ],
   "source": [
    "from random import randint\n",
    "\n",
    "# 상수\n",
    "NUM_TRIES = 4\n",
    "ANSWER = randint(1, 20)\n",
    "\n",
    "# 변수\n",
    "tries = 0\n",
    "guess = -1\n",
    "\n",
    "# 시도가 남았고 아직 답을 못 맞췄을 경우\n",
    "while tries < NUM_TRIES and guess != ANSWER:\n",
    "    guess = int(input(\"기회가 %d번 남았습니다. 1-20 사이의 숫자를 맞춰보세요:\" % (NUM_TRIES - tries)))\n",
    "    tries = tries + 1\n",
    "    \n",
    "    if guess < ANSWER:\n",
    "        print(\"Up\")\n",
    "    elif guess > ANSWER:\n",
    "        print(\"Down\")\n",
    "        \n",
    "if guess == ANSWER:\n",
    "    print(\"축하합니다. %d번만에 숫자를 맞추셨습니다\" % (tries))\n",
    "else:\n",
    "    print(\"아쉽습니다. 정답은 %d였습니다\" % (ANSWER))"
   ]
  },
  {
   "cell_type": "code",
   "execution_count": null,
   "metadata": {},
   "outputs": [],
   "source": []
  }
 ],
 "metadata": {
  "kernelspec": {
   "display_name": "Python 3",
   "language": "python",
   "name": "python3"
  },
  "language_info": {
   "codemirror_mode": {
    "name": "ipython",
    "version": 3
   },
   "file_extension": ".py",
   "mimetype": "text/x-python",
   "name": "python",
   "nbconvert_exporter": "python",
   "pygments_lexer": "ipython3",
   "version": "3.6.7"
  }
 },
 "nbformat": 4,
 "nbformat_minor": 2
}
