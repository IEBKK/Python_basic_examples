{
 "cells": [
  {
   "cell_type": "markdown",
   "metadata": {},
   "source": [
    "10보다 작은 2 또는 3의 배수는 2, 3, 4, 6, 8, 9이며, 이들의 합은 32입니다.\n",
    "while문과 if문을 활용하여, 1000보다 작은 자연수 중 2 또는 3의 배수의 합을 출력하는 프로그램을 써보세요.\n",
    "333167"
   ]
  },
  {
   "cell_type": "code",
   "execution_count": 1,
   "metadata": {},
   "outputs": [
    {
     "name": "stdout",
     "output_type": "stream",
     "text": [
      "333167\n"
     ]
    }
   ],
   "source": [
    "num_count = 1\n",
    "num_sum = 0\n",
    "while num_count < 1000:\n",
    "    if num_count % 2 == 0 or num_count % 3 == 0:\n",
    "        num_sum = num_sum + num_count\n",
    "    num_count = num_count + 1\n",
    "\n",
    "print(num_sum)"
   ]
  }
 ],
 "metadata": {
  "kernelspec": {
   "display_name": "Python 3",
   "language": "python",
   "name": "python3"
  },
  "language_info": {
   "codemirror_mode": {
    "name": "ipython",
    "version": 3
   },
   "file_extension": ".py",
   "mimetype": "text/x-python",
   "name": "python",
   "nbconvert_exporter": "python",
   "pygments_lexer": "ipython3",
   "version": "3.6.7"
  }
 },
 "nbformat": 4,
 "nbformat_minor": 2
}
