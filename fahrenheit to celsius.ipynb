{
 "cells": [
  {
   "cell_type": "code",
   "execution_count": 15,
   "metadata": {},
   "outputs": [
    {
     "name": "stdout",
     "output_type": "stream",
     "text": [
      "화씨 온도 리스트: [40, 15, 32, 64, -4, 11]\n",
      "섭씨 온도 리스트: [4.444444444444445, -9.444444444444445, 0.0, 17.77777777777778, -20.0, -11.666666666666666]\n"
     ]
    }
   ],
   "source": [
    "# 화씨 온도에서 섭씨 온도로 바꿔주는 함수\n",
    "def fahrenheit_to_celsius(fahrenheit):\n",
    "    celsius = (int(fahrenheit) - 32) * 5 / 9\n",
    "    return celsius\n",
    "\n",
    "# 테스트용 온도 리스트\n",
    "sample_temperature_list = [40, 15, 32, 64, -4, 11]\n",
    "\n",
    "# 화씨 온도 출력\n",
    "print(\"화씨 온도 리스트: \" + str(sample_temperature_list))\n",
    "\n",
    "# 리스트의 값들을 화씨에서 섭씨로 변환\n",
    "i = 0\n",
    "while i < len(sample_temperature_list):\n",
    "    sample_temperature_list[i] = fahrenheit_to_celsius(sample_temperature_list[i])\n",
    "    i = i + 1\n",
    "    \n",
    "# 섭씨 온도 출력\n",
    "print(\"섭씨 온도 리스트: \" + str(sample_temperature_list))"
   ]
  },
  {
   "cell_type": "code",
   "execution_count": null,
   "metadata": {},
   "outputs": [],
   "source": []
  },
  {
   "cell_type": "code",
   "execution_count": null,
   "metadata": {},
   "outputs": [],
   "source": []
  }
 ],
 "metadata": {
  "kernelspec": {
   "display_name": "Python 3",
   "language": "python",
   "name": "python3"
  },
  "language_info": {
   "codemirror_mode": {
    "name": "ipython",
    "version": 3
   },
   "file_extension": ".py",
   "mimetype": "text/x-python",
   "name": "python",
   "nbconvert_exporter": "python",
   "pygments_lexer": "ipython3",
   "version": "3.6.7"
  }
 },
 "nbformat": 4,
 "nbformat_minor": 2
}
