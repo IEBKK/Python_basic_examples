{
 "cells": [
  {
   "cell_type": "code",
   "execution_count": 7,
   "metadata": {},
   "outputs": [
    {
     "name": "stdout",
     "output_type": "stream",
     "text": [
      "[1, 2, 3, 4, 6, 11, 12]\n"
     ]
    }
   ],
   "source": [
    "# 두 리스트 합치기\n",
    "def merge(list1, list2):\n",
    "    # 코드를 입력하세요.\n",
    "    list1 = sorted(list1)\n",
    "    list2 = sorted(list2)\n",
    "    new_list = []\n",
    "    i = 0\n",
    "    j = 0\n",
    "    \n",
    "    while i < len(list1) and j < len(list2):\n",
    "        if list1[i] < list2[j]:\n",
    "            new_list.append(list1[i])\n",
    "            i += 1\n",
    "        else:\n",
    "            new_list.append(list2[j])\n",
    "            j += 1\n",
    "    \n",
    "    for i in range(len(list1)):\n",
    "        if list1[i] not in new_list:\n",
    "            new_list.append(list1[i])\n",
    "    \n",
    "    for j in range(len(list2)):\n",
    "        if list2[j] not in new_list:\n",
    "            new_list.append(list2[j])\n",
    "    return new_list\n",
    "\n",
    "# 합병 정렬\n",
    "def merge_sort(my_list):\n",
    "    # 코드를 입력하세요.\n",
    "    # Base Case\n",
    "    if len(my_list) == 1:\n",
    "        return my_list\n",
    "    \n",
    "    # Recursive Case: left와 right로 my_list를 나누어 준다. \n",
    "    left = my_list[:len(my_list) // 2]\n",
    "    right = my_list[len(my_list) // 2:]\n",
    "    \n",
    "    \n",
    "    # Recursive Case: my_list를 잘게 쪼개는 과정을 재귀적으로 반복하고, merge 함수를 사용하여 합쳐준다.\n",
    "      \n",
    "    return merge(merge_sort(left), merge_sort(right))\n",
    "    \n",
    "    \n",
    "some_list = [11, 3, 6, 4, 12, 1, 2]                                    \n",
    "sorted_list = merge_sort(some_list)\n",
    "print(sorted_list)"
   ]
  },
  {
   "cell_type": "code",
   "execution_count": 6,
   "metadata": {},
   "outputs": [
    {
     "ename": "IndentationError",
     "evalue": "expected an indented block (<ipython-input-6-28c53f36c01a>, line 8)",
     "output_type": "error",
     "traceback": [
      "\u001b[1;36m  File \u001b[1;32m\"<ipython-input-6-28c53f36c01a>\"\u001b[1;36m, line \u001b[1;32m8\u001b[0m\n\u001b[1;33m    left = my_list[:len(my_list) // 2]\u001b[0m\n\u001b[1;37m       ^\u001b[0m\n\u001b[1;31mIndentationError\u001b[0m\u001b[1;31m:\u001b[0m expected an indented block\n"
     ]
    }
   ],
   "source": [
    "some_list = [11, 3, 6, 4, 12, 1, 2]\n",
    "my_list = some_list\n",
    "\n",
    "if len(my_list) == 1:\n",
    "        \n",
    "    \n",
    "# Recursive Case: left와 right로 my_list를 나누어 준다. \n",
    "left = my_list[:len(my_list) // 2]\n",
    "right = my_list[len(my_list) // 2:]\n",
    "    \n"
   ]
  },
  {
   "cell_type": "code",
   "execution_count": 14,
   "metadata": {},
   "outputs": [
    {
     "name": "stdout",
     "output_type": "stream",
     "text": [
      "[2, 3, 4, 7]\n",
      "[1, 5, 6]\n",
      "[1, 2, 3, 4, 5, 6, 7]\n"
     ]
    }
   ],
   "source": [
    "list1 = [4, 7, 3, 2]\n",
    "list2 = [1, 6, 5]\n",
    "list1 = sorted(list1)\n",
    "list2 = sorted(list2)\n",
    "new_list = []\n",
    "i = 0\n",
    "j = 0\n",
    "    \n",
    "while i < len(list1) and j < len(list2):\n",
    "    if list1[i] < list2[j]:\n",
    "        new_list.append(list1[i])\n",
    "        i += 1\n",
    "    else:\n",
    "        new_list.append(list2[j])\n",
    "        j += 1\n",
    "\n",
    "print(list1)\n",
    "print(list2)\n",
    "\n",
    "for i in range(len(list1)):\n",
    "    if list1[i] not in new_list:\n",
    "        new_list.append(list1[i])\n",
    "for j in range(len(list2)):\n",
    "    if list2[j] not in new_list:\n",
    "        new_list.append(list2[j])\n",
    "\n",
    "    \n",
    "print(new_list)"
   ]
  },
  {
   "cell_type": "code",
   "execution_count": null,
   "metadata": {},
   "outputs": [],
   "source": []
  }
 ],
 "metadata": {
  "kernelspec": {
   "display_name": "Python 3",
   "language": "python",
   "name": "python3"
  },
  "language_info": {
   "codemirror_mode": {
    "name": "ipython",
    "version": 3
   },
   "file_extension": ".py",
   "mimetype": "text/x-python",
   "name": "python",
   "nbconvert_exporter": "python",
   "pygments_lexer": "ipython3",
   "version": "3.6.7"
  }
 },
 "nbformat": 4,
 "nbformat_minor": 2
}
