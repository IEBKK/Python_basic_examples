{
 "cells": [
  {
   "cell_type": "code",
   "execution_count": 28,
   "metadata": {},
   "outputs": [
    {
     "name": "stdout",
     "output_type": "stream",
     "text": [
      "14\n",
      "['9', '1', '1', '0', '2', '2', '-', '1', '8', '5', '1', '6', '4', '0']\n",
      "[0, 1, 2, 3]\n",
      "0\n",
      "['9', '1', '1', '0', '2', '2', '-', '1', '8', '5', '1', '6', '4', '*']\n",
      "['9', '1', '1', '0', '2', '2', '-', '1', '8', '5', '1', '6', '4', '*']\n",
      "['9', '1', '1', '0', '2', '2', '-', '1', '8', '5', '1', '6', '*', '*']\n",
      "['9', '1', '1', '0', '2', '2', '-', '1', '8', '5', '1', '6', '*', '*']\n",
      "['9', '1', '1', '0', '2', '2', '-', '1', '8', '5', '1', '*', '*', '*']\n",
      "['9', '1', '1', '0', '2', '2', '-', '1', '8', '5', '1', '*', '*', '*']\n",
      "['9', '1', '1', '0', '2', '2', '-', '1', '8', '5', '*', '*', '*', '*']\n",
      "['9', '1', '1', '0', '2', '2', '-', '1', '8', '5', '*', '*', '*', '*']\n"
     ]
    }
   ],
   "source": [
    "security_number = \"911022-1851640\"\n",
    "\n",
    "num = list(security_number)\n",
    "\n",
    "print(len(num))\n",
    "\n",
    "print(num)\n",
    "\n",
    "print(list(range(4)))\n",
    "\n",
    "print(num[13])\n",
    "temp = []\n",
    "for i in list(range(4)):\n",
    "    num[(len(num)-1) - i] = \"*\"\n",
    "    temp "
   ]
  },
  {
   "cell_type": "markdown",
   "metadata": {},
   "source": [
    "# 주민등록번호 가리기\n",
    "주민등록번호 YYMMDD-abcdefg는 총 13자리로, 앞의 6자리(YYMMDD)는 생년월일을 의미합니다.\n",
    "뒤의 7자리 abcdefg 중 맨 앞자리 a는 성별을 의미하고, 두번째와 세번째 자리 bc는 출생등록지에 해당하는 지방자치단체의 고유번호입니다. 즉 여러분이 언제, 어디서 태어났는지와 성별만 안다면, 마지막 4개의 숫자 defg를 제외한 앞의 9개 숫자는 쉽게 알 수 있다는 것입니다.\n",
    "이러한 의미에서, 저희는 주민등록번호의 마지막 4개의 숫자 defg를 가려주는 보안 프로그램을 만들어보려고 합니다. 문자열 security_number를 파라미터로 받고, security_number의 마지막 네 글자를 '*'로 가린 문자열 값을 리턴해주는 함수 mask_security_number를 쓰세요. 주민등록번호 가운데에 구분해주는 '-' 작대기 기호가 있든 없든, 아래와 같이 마지막 네 글자가 '*'로 가려져야 합니다.# "
   ]
  },
  {
   "cell_type": "code",
   "execution_count": 32,
   "metadata": {},
   "outputs": [
    {
     "name": "stdout",
     "output_type": "stream",
     "text": [
      "880720-123****\n",
      "880720123****\n",
      "930124-765****\n",
      "930124765****\n",
      "761214-235****\n",
      "761214235****\n"
     ]
    }
   ],
   "source": [
    "def mask_security_number(security_number):\n",
    "    num_list = list(security_number)\n",
    "    for i in list(range(4)):\n",
    "        num_list[(len(num_list) - 1) - i] = \"*\"\n",
    "    result = ''\n",
    "    for i in num_list:\n",
    "        result += i\n",
    "    return result\n",
    "\n",
    "print(mask_security_number(\"880720-1234567\"))\n",
    "print(mask_security_number(\"8807201234567\"))\n",
    "print(mask_security_number(\"930124-7654321\"))\n",
    "print(mask_security_number(\"9301247654321\"))\n",
    "print(mask_security_number(\"761214-2357111\"))\n",
    "print(mask_security_number(\"7612142357111\"))"
   ]
  },
  {
   "cell_type": "code",
   "execution_count": null,
   "metadata": {},
   "outputs": [],
   "source": []
  },
  {
   "cell_type": "code",
   "execution_count": null,
   "metadata": {},
   "outputs": [],
   "source": []
  },
  {
   "cell_type": "code",
   "execution_count": null,
   "metadata": {},
   "outputs": [],
   "source": []
  },
  {
   "cell_type": "code",
   "execution_count": null,
   "metadata": {},
   "outputs": [],
   "source": []
  },
  {
   "cell_type": "code",
   "execution_count": null,
   "metadata": {},
   "outputs": [],
   "source": []
  }
 ],
 "metadata": {
  "kernelspec": {
   "display_name": "Python 3",
   "language": "python",
   "name": "python3"
  },
  "language_info": {
   "codemirror_mode": {
    "name": "ipython",
    "version": 3
   },
   "file_extension": ".py",
   "mimetype": "text/x-python",
   "name": "python",
   "nbconvert_exporter": "python",
   "pygments_lexer": "ipython3",
   "version": "3.6.7"
  }
 },
 "nbformat": 4,
 "nbformat_minor": 2
}
