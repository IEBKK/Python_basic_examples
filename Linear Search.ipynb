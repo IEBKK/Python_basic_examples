{
 "cells": [
  {
   "cell_type": "markdown",
   "metadata": {},
   "source": [
    "# 선형 탐색\n",
    "'선형 탐색(Linear Search)' 알고리즘을 사용해서 어떤 원소가 리스트 안에 포함되어 있는지 확인하려고 합니다. 선형 탐색이란, 리스트의 처음부터 끝까지 순서대로 하나씩 탐색을 진행하는 알고리즘입니다.\n",
    "파라미터로 탐색할 값 element와 리스트 some_list를 받는 함수 linear_search를 작성하세요. 0번 인덱스부터 순서대로 하나씩 확인해서 만약 element를 some_list에서 발견할 시 그 위치(인덱스)를 리턴해주면 됩니다. element가 some_list에 존재하지 않는 값이면 None을 리턴해주세요."
   ]
  },
  {
   "cell_type": "code",
   "execution_count": null,
   "metadata": {},
   "outputs": [],
   "source": [
    "def linear_search(element, some_list):\n",
    "    # 코드를 작성하세요.\n",
    "    for i in range(len(some_list)):\n",
    "        index = None\n",
    "        if element == some_list[i]:\n",
    "            index = i\n",
    "            return index\n",
    "\n",
    "print(linear_search(2, [2, 3, 5, 7, 11]))\n",
    "print(linear_search(0, [2, 3, 5, 7, 11]))\n",
    "print(linear_search(5, [2, 3, 5, 7, 11]))\n",
    "print(linear_search(3, [2, 3, 5, 7, 11]))\n",
    "print(linear_search(11, [2, 3, 5, 7, 11]))"
   ]
  }
 ],
 "metadata": {
  "kernelspec": {
   "display_name": "Python 3",
   "language": "python",
   "name": "python3"
  },
  "language_info": {
   "codemirror_mode": {
    "name": "ipython",
    "version": 3
   },
   "file_extension": ".py",
   "mimetype": "text/x-python",
   "name": "python",
   "nbconvert_exporter": "python",
   "pygments_lexer": "ipython3",
   "version": "3.6.7"
  }
 },
 "nbformat": 4,
 "nbformat_minor": 2
}
