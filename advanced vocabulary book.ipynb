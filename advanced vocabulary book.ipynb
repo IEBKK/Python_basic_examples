{
 "cells": [
  {
   "cell_type": "code",
   "execution_count": 1,
   "metadata": {},
   "outputs": [
    {
     "name": "stdout",
     "output_type": "stream",
     "text": [
      "지갑: wallet\n",
      "맞았습니다!\n",
      "지갑: q\n"
     ]
    }
   ],
   "source": [
    "from random import randint\n",
    "\n",
    "# 단어장 텍스트 파일 불러오기\n",
    "in_file = open('vocabulary.txt', 'r')\n",
    "\n",
    "# vocab 사전 만들기\n",
    "vocab = {}\n",
    "\n",
    "for line in in_file:\n",
    "    words = line.strip().split(\": \")\n",
    "    vocab[words[1]] = words[0]\n",
    "\n",
    "keys = list(vocab.keys())\n",
    "in_file.close()\n",
    "\n",
    "# 정답 판별\n",
    "while True:\n",
    "    index = randint(0, len(keys) - 1)\n",
    "    korean_word = keys[index]\n",
    "    english_word = vocab[korean_word]\n",
    "    \n",
    "    answer = input(\"%s: \" % (korean_word))\n",
    "    \n",
    "    if english_word == answer:\n",
    "        print(\"맞았습니다!\")\n",
    "    \n",
    "    elif answer == \"q\":\n",
    "        break\n",
    "    \n",
    "    else:\n",
    "        print(\"아쉽습니다. 정답은 %s입니다.\" % (english_word))\n",
    "    \n",
    "    \n",
    "    "
   ]
  },
  {
   "cell_type": "code",
   "execution_count": null,
   "metadata": {},
   "outputs": [
    {
     "name": "stdout",
     "output_type": "stream",
     "text": [
      "절: temple\n",
      "정답입니다!\n",
      "\n",
      "고양이: cat\n",
      "정답입니다!\n",
      "\n",
      "교회: q\n",
      "아쉽습니다. 정답은 church입니다. \n",
      "\n",
      "고양이: q\n",
      "아쉽습니다. 정답은 cat입니다. \n",
      "\n",
      "교회: qq\n",
      "아쉽습니다. 정답은 church입니다. \n",
      "\n"
     ]
    }
   ],
   "source": [
    "from random import randint\n",
    "\n",
    "#파일열기\n",
    "in_file = open('vocabulary.txt', 'r')\n",
    "\n",
    "# vocab 사전 만들기\n",
    "vocab = {}\n",
    "\n",
    "for line in in_file:\n",
    "    #정보 정리\n",
    "    data = line.strip().split(\": \")\n",
    "    english_word = data[0]\n",
    "    korean_word = data[1]\n",
    "    \n",
    "    #사전에 추가\n",
    "    vocab[english_word] = korean_word\n",
    "    \n",
    "while True:\n",
    "    keys = list(vocab.keys())\n",
    "    index = randint(0, len(keys) - 1)\n",
    "    english_word = keys[index]\n",
    "    korean_word = vocab[english_word]\n",
    "    \n",
    "    #유저 입력값 받기\n",
    "    guess = input(\"%s: \" % korean_word)\n",
    "    \n",
    "    if guess ==\"q\":\n",
    "        break\n",
    "        \n",
    "    #정답 확인\n",
    "    if guess == english_word:\n",
    "        print(\"정답입니다!\\n\")\n",
    "        \n",
    "    else:\n",
    "        print(\"아쉽습니다. 정답은 %s입니다. \\n\" % english_word)\n",
    "in_file.close()\n"
   ]
  },
  {
   "cell_type": "code",
   "execution_count": null,
   "metadata": {},
   "outputs": [],
   "source": []
  }
 ],
 "metadata": {
  "kernelspec": {
   "display_name": "Python 3",
   "language": "python",
   "name": "python3"
  },
  "language_info": {
   "codemirror_mode": {
    "name": "ipython",
    "version": 3
   },
   "file_extension": ".py",
   "mimetype": "text/x-python",
   "name": "python",
   "nbconvert_exporter": "python",
   "pygments_lexer": "ipython3",
   "version": "3.6.7"
  }
 },
 "nbformat": 4,
 "nbformat_minor": 2
}
