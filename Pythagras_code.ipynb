{
 "cells": [
  {
   "cell_type": "markdown",
   "metadata": {},
   "source": [
    "# 피타고라스 수\n",
    "피타고라스 수란 피타고라스의 정리(a^2 + b^2 = c^2)를 만족하는 세 자연수 쌍 (a, b, c) 입니다.\n",
    "예를 들어, 3^2 + 4^2 = 5^2이기 때문에 (3, 4, 5)는 피타고라스 수입니다.\n",
    "a < b < c일때, a + b + c = 1000을 만족하는 피타고라스 수 (a, b, c)는 단 하나입니다. 이 경우, a * b * c는 얼마인가요?"
   ]
  },
  {
   "cell_type": "code",
   "execution_count": null,
   "metadata": {},
   "outputs": [],
   "source": [
    "for a in range(1, 1001):\n",
    "    for b in range(1, 1001):\n",
    "        c = 1000 - (a + b)\n",
    "        if a < b and b < c:\n",
    "            if a ** 2 + b ** 2 == c ** 2:\n",
    "                print(a * b * c)"
   ]
  },
  {
   "cell_type": "code",
   "execution_count": null,
   "metadata": {},
   "outputs": [],
   "source": [
    "#####계산속도 올리기 위한 Tip\n",
    "\n",
    "for a in range(1, 333):\n",
    "    for b in range(a + 1, 500):\n",
    "        c = 1000 - a - b\n",
    "        # 코드를 작성하세요."
   ]
  }
 ],
 "metadata": {
  "kernelspec": {
   "display_name": "Python 3",
   "language": "python",
   "name": "python3"
  },
  "language_info": {
   "codemirror_mode": {
    "name": "ipython",
    "version": 3
   },
   "file_extension": ".py",
   "mimetype": "text/x-python",
   "name": "python",
   "nbconvert_exporter": "python",
   "pygments_lexer": "ipython3",
   "version": "3.6.7"
  }
 },
 "nbformat": 4,
 "nbformat_minor": 2
}
