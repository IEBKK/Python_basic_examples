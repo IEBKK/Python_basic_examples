{
 "cells": [
  {
   "cell_type": "markdown",
   "metadata": {},
   "source": [
    "# 리스트 뒤집기\n",
    "리스트에 있는 데이터의 순서를 거꾸로 뒤집는 방법을 생각해내려고 합니다.\n",
    "numbers = [2, 4, 6, 8, 10, 12, 14]\n",
    "\n",
    "# 리스트 뒤집기\n",
    "# 코드를 입력하세요.\n",
    "\n",
    "print(\"뒤집어진 리스트: \" + str(numbers))\n",
    "위와 같이 numbers라는 리스트가 주어졌을 때, for문을 사용하여 리스트를 거꾸로 뒤집어 아래의 내용이 출력되게 하세요.\n",
    "뒤집어진 리스트: [14, 12, 10, 8, 6, 4, 2]"
   ]
  },
  {
   "cell_type": "markdown",
   "metadata": {},
   "source": [
    "<주의> 새로운 리스트를 만들면 안 됩니다. numbers 리스트 하나만 사용하세요. \n",
    "<주의> reverse 메소드, insert 메소드, append 메소드, del 함수 등을 사용하지 마세요. \n",
    "<주의> 자동 채점 과제이기 때문에, 문제의 조건에 정확히 따라주시기 바랍니다. 띄어쓰기도 일치해야 합니다. "
   ]
  },
  {
   "cell_type": "code",
   "execution_count": null,
   "metadata": {},
   "outputs": [],
   "source": [
    "numbers = [2, 4, 6, 8, 10, 12, 14]\n",
    "\n",
    "for i in range(0, int(len(numbers) / 2)):\n",
    "    \n",
    "    temp = numbers[i]\n",
    "    numbers[i] = numbers[(len(numbers) - 1) - i]\n",
    "    numbers[(len(numbers) - 1) - i] = temp\n",
    "\n",
    "print(\"뒤집어진 리스트: \" + str(numbers))"
   ]
  }
 ],
 "metadata": {
  "kernelspec": {
   "display_name": "Python 3",
   "language": "python",
   "name": "python3"
  },
  "language_info": {
   "codemirror_mode": {
    "name": "ipython",
    "version": 3
   },
   "file_extension": ".py",
   "mimetype": "text/x-python",
   "name": "python",
   "nbconvert_exporter": "python",
   "pygments_lexer": "ipython3",
   "version": "3.6.7"
  }
 },
 "nbformat": 4,
 "nbformat_minor": 2
}
