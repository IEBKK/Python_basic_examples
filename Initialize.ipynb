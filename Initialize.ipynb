{
 "cells": [
  {
   "cell_type": "markdown",
   "metadata": {},
   "source": [
    "# initialize\n",
    "정의되어 있지 않은 인스턴스 변수를 쓰려고 하면 오류가 나오기 때문에 꼭 모든 인스턴스 변수를 정의해야 한다고 말했었습니다. 만약 User 인스턴스를 네개 만들고 초기값들을 설정해주려면 아래처럼 쓰면 됩니다."
   ]
  },
  {
   "cell_type": "code",
   "execution_count": 1,
   "metadata": {},
   "outputs": [],
   "source": [
    "class User:\n",
    "    pass\n",
    "\n",
    "user1 = User()\n",
    "user1.name = \"Young\"\n",
    "user1.email = \"young@codeit.kr\"\n",
    "user1.password = \"123456\"\n",
    "\n",
    "user2 = User()\n",
    "user2.name = \"Yoonsoo\"\n",
    "user2.email = \"yoonsoo@codeit.kr\"\n",
    "user2.password = \"abcdef\"\n",
    "\n",
    "user3 = User()\n",
    "user3.name = \"Taeho\"\n",
    "user3.email = \"taeho@codeit.kr\"\n",
    "user3.password = \"123abc\"\n",
    "\n",
    "user4 = User()\n",
    "user4.name = \"Lisa\"\n",
    "user4.email = \"lisa@codeit.kr\"\n",
    "user4.password = \"abc123\""
   ]
  },
  {
   "cell_type": "markdown",
   "metadata": {},
   "source": [
    "그런데 딱 봐도 뭔가 쓸데없이 길어보이고 반복적입니다. 이 문제를 해결하기 위해, 모든 인스턴스 변수를 초기값으로 설정해주는 initialize 메소드를 써보세요. 아래의 코드는 위의 코드와 똑같은 역할을 해야합니다."
   ]
  },
  {
   "cell_type": "code",
   "execution_count": 2,
   "metadata": {},
   "outputs": [
    {
     "ename": "IndentationError",
     "evalue": "expected an indented block (<ipython-input-2-c7b60f2c0ce6>, line 5)",
     "output_type": "error",
     "traceback": [
      "\u001b[1;36m  File \u001b[1;32m\"<ipython-input-2-c7b60f2c0ce6>\"\u001b[1;36m, line \u001b[1;32m5\u001b[0m\n\u001b[1;33m    user1 = User()\u001b[0m\n\u001b[1;37m        ^\u001b[0m\n\u001b[1;31mIndentationError\u001b[0m\u001b[1;31m:\u001b[0m expected an indented block\n"
     ]
    }
   ],
   "source": [
    "class User:\n",
    "    # initialize 메소드를 여기 쓰세요\n",
    "    # def initialize...\n",
    "\n",
    "user1 = User()\n",
    "user1.initialize(\"Young\", \"young@codeit.kr\", \"123456\")\n",
    "\n",
    "user2 = User()\n",
    "user2.initialize(\"Yoonsoo\", \"yoonsoo@codeit.kr\", \"abcdef\")\n",
    "\n",
    "user3 = User()\n",
    "user3.initialize(\"Taeho\", \"taeho@codeit.kr\", \"123abc\")\n",
    "\n",
    "user4 = User()\n",
    "user4.initialize(\"Lisa\", \"lisa@codeit.kr\", \"abc123\")\n",
    "\n",
    "print(user1.email)\n",
    "print(user2.name)\n",
    "print(user3.password)\n",
    "print(user4.email)"
   ]
  },
  {
   "cell_type": "markdown",
   "metadata": {},
   "source": [
    "young@codeit.kr\n",
    "Yoonsoo\n",
    "123abc\n",
    "lisa@codeit.kr"
   ]
  },
  {
   "cell_type": "code",
   "execution_count": 3,
   "metadata": {},
   "outputs": [
    {
     "name": "stdout",
     "output_type": "stream",
     "text": [
      "young@codeit.kr\n",
      "Yoonsoo\n",
      "123abc\n",
      "lisa@codeit.kr\n"
     ]
    }
   ],
   "source": [
    "class User:\n",
    "    # initialize 메소드\n",
    "    def initialize(self, name, email, password):\n",
    "        self.name = name\n",
    "        self.email = email\n",
    "        self.password = password\n",
    "\n",
    "\n",
    "user1 = User()\n",
    "user1.initialize(\"Young\", \"young@codeit.kr\", \"123456\")\n",
    "\n",
    "user2 = User()\n",
    "user2.initialize(\"Yoonsoo\", \"yoonsoo@codeit.kr\", \"abcdef\")\n",
    "\n",
    "user3 = User()\n",
    "user3.initialize(\"Taeho\", \"taeho@codeit.kr\", \"123abc\")\n",
    "\n",
    "user4 = User()\n",
    "user4.initialize(\"Lisa\", \"lisa@codeit.kr\", \"abc123\")\n",
    "\n",
    "print(user1.email)\n",
    "print(user2.name)\n",
    "print(user3.password)\n",
    "print(user4.email)"
   ]
  },
  {
   "cell_type": "code",
   "execution_count": null,
   "metadata": {},
   "outputs": [],
   "source": []
  }
 ],
 "metadata": {
  "kernelspec": {
   "display_name": "Python 3",
   "language": "python",
   "name": "python3"
  },
  "language_info": {
   "codemirror_mode": {
    "name": "ipython",
    "version": 3
   },
   "file_extension": ".py",
   "mimetype": "text/x-python",
   "name": "python",
   "nbconvert_exporter": "python",
   "pygments_lexer": "ipython3",
   "version": "3.6.7"
  }
 },
 "nbformat": 4,
 "nbformat_minor": 2
}
