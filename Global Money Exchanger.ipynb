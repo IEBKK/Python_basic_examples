{
 "cells": [
  {
   "cell_type": "code",
   "execution_count": 1,
   "metadata": {},
   "outputs": [
    {
     "name": "stdout",
     "output_type": "stream",
     "text": [
      "한국 화폐: [1000, 2000, 3000, 5000, 8000, 13000, 21000, 34000]\n",
      "미국화폐: [1, 2, 3, 5, 8, 13, 21, 34]\n",
      "일본 화폐: [125, 250, 375, 625, 1000, 1625, 2625, 4250]\n"
     ]
    }
   ],
   "source": [
    "# 원(Won)에서 달러($)로 바꿔주는 함수\n",
    "def krw_to_usd(won):\n",
    "    dollars = won / 1000\n",
    "    return dollars\n",
    "\n",
    "# 달러($)에서 엔(jpy)으로 바꿔주는 함수\n",
    "def usd_to_jpy(dollars):\n",
    "    yen = dollars * 125\n",
    "    return yen\n",
    "\n",
    "# 원(Won)으로 각각 얼마인가요?\n",
    "amounts = [1000, 2000, 3000, 5000, 8000, 13000, 21000, 34000]\n",
    "print(\"한국 화폐: \" + str(amounts))\n",
    "\n",
    "# amounts를 원(Won)에서 달러($)로 바꿔주기\n",
    "i = 0\n",
    "while i < len(amounts):\n",
    "    amounts[i] = int(krw_to_usd(amounts[i]))\n",
    "    i += 1\n",
    "\n",
    "# 달러($)로 각각 얼마인가요?\n",
    "print(\"미국화폐: \" + str(amounts))\n",
    "\n",
    "# amounts를 달러($)에서 엔(Yen)으로 바꿔주기\n",
    "t = 0\n",
    "while t < len(amounts):\n",
    "    amounts[t] = int(usd_to_jpy(amounts[t]))\n",
    "    t += 1\n",
    "    \n",
    "# 엔(Yen)으로 각각 얼마인가요?\n",
    "print(\"일본 화폐: \" + str(amounts))\n"
   ]
  },
  {
   "cell_type": "code",
   "execution_count": 4,
   "metadata": {},
   "outputs": [
    {
     "name": "stdout",
     "output_type": "stream",
     "text": [
      "[125, 250, 375, 625, 1000, 1625, 2625, 4250]\n"
     ]
    }
   ],
   "source": [
    "print(amounts)"
   ]
  },
  {
   "cell_type": "code",
   "execution_count": null,
   "metadata": {},
   "outputs": [],
   "source": []
  },
  {
   "cell_type": "code",
   "execution_count": null,
   "metadata": {},
   "outputs": [],
   "source": []
  },
  {
   "cell_type": "code",
   "execution_count": null,
   "metadata": {},
   "outputs": [],
   "source": []
  }
 ],
 "metadata": {
  "kernelspec": {
   "display_name": "Python 3",
   "language": "python",
   "name": "python3"
  },
  "language_info": {
   "codemirror_mode": {
    "name": "ipython",
    "version": 3
   },
   "file_extension": ".py",
   "mimetype": "text/x-python",
   "name": "python",
   "nbconvert_exporter": "python",
   "pygments_lexer": "ipython3",
   "version": "3.6.7"
  }
 },
 "nbformat": 4,
 "nbformat_minor": 2
}
