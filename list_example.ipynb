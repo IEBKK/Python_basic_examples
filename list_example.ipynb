{
 "cells": [
  {
   "cell_type": "code",
   "execution_count": 1,
   "metadata": {},
   "outputs": [
    {
     "ename": "IndentationError",
     "evalue": "expected an indented block (<ipython-input-1-8c4b9aae4971>, line 15)",
     "output_type": "error",
     "traceback": [
      "\u001b[1;36m  File \u001b[1;32m\"<ipython-input-1-8c4b9aae4971>\"\u001b[1;36m, line \u001b[1;32m15\u001b[0m\n\u001b[1;33m    del numbers[o]\u001b[0m\n\u001b[1;37m      ^\u001b[0m\n\u001b[1;31mIndentationError\u001b[0m\u001b[1;31m:\u001b[0m expected an indented block\n"
     ]
    }
   ],
   "source": [
    "# 빈 리스트 만들기\n",
    "numbers = []\n",
    "\n",
    "#  numbers에 자연수 1부터 10까지 추가\n",
    "i = 1\n",
    "while i <= 10: \n",
    "    numbers.append(i)\n",
    "    i += 1\n",
    "print(numbers)\n",
    "\n",
    "# numbers에서 홀수 제거\n",
    "o = 0\n",
    "while 0 < len(numbers):\n",
    "    if numbers[o] % 2 != 0:\n",
    "    del numbers[o]\n",
    "    o += 1\n",
    "print(numbers)"
   ]
  },
  {
   "cell_type": "code",
   "execution_count": 3,
   "metadata": {},
   "outputs": [
    {
     "name": "stdout",
     "output_type": "stream",
     "text": [
      "[1, 2, 3, 4, 5, 6, 7, 8, 9, 10]\n",
      "[2, 4, 6, 8, 10]\n",
      "[20, 2, 4, 6, 8, 10]\n",
      "[2, 4, 6, 8, 10, 20]\n"
     ]
    }
   ],
   "source": [
    "# 빈 리스트 만들기\n",
    "numbers = []\n",
    "\n",
    "#  numbers에 자연수 1부터 10까지 추가\n",
    "i = 1\n",
    "while i <= 10: \n",
    "    numbers.append(i)\n",
    "    i += 1\n",
    "print(numbers)\n",
    "\n",
    "# numbers에서 홀수 제거\n",
    "i = 0\n",
    "while i < len(numbers):\n",
    "    if numbers[i] % 2 != 0:\n",
    "        del numbers[i]\n",
    "    else:\n",
    "        i += 1\n",
    "print(numbers)\n",
    "\n",
    "# numbers의 인덱스 0 자리에 20이라는 값 삽입\n",
    "numbers.insert(0, 20)\n",
    "print(numbers)\n",
    "\n",
    "# numbers를 정렬해서 출력\n",
    "numbers = sorted(numbers)\n",
    "print(numbers)"
   ]
  },
  {
   "cell_type": "code",
   "execution_count": 4,
   "metadata": {},
   "outputs": [
    {
     "name": "stdout",
     "output_type": "stream",
     "text": [
      "[1, 2, 3, 4, 5, 6, 7, 8, 9, 10]\n",
      "[2, 4, 6, 8, 10]\n",
      "[20, 2, 4, 6, 8, 10]\n",
      "[2, 4, 6, 8, 10, 20]\n"
     ]
    }
   ],
   "source": [
    "# 빈 리스트 만들기\n",
    "numbers = []\n",
    "\n",
    "#  numbers에 자연수 1부터 10까지 추가\n",
    "i = 1\n",
    "while i <= 10: \n",
    "    numbers.append(i)\n",
    "    i += 1\n",
    "print(numbers)\n",
    "\n",
    "# numbers에서 홀수 제거\n",
    "i = len(numbers) - 1\n",
    "while i >= 0:\n",
    "    if numbers[i] % 2 == 1:\n",
    "        del numbers[i]\n",
    "    i -= 1\n",
    "print(numbers)\n",
    "\n",
    "# numbers의 인덱스 0 자리에 20이라는 값 삽입\n",
    "numbers.insert(0, 20)\n",
    "print(numbers)\n",
    "\n",
    "# numbers를 정렬해서 출력\n",
    "numbers = sorted(numbers)\n",
    "print(numbers)"
   ]
  },
  {
   "cell_type": "code",
   "execution_count": null,
   "metadata": {},
   "outputs": [],
   "source": []
  }
 ],
 "metadata": {
  "kernelspec": {
   "display_name": "Python 3",
   "language": "python",
   "name": "python3"
  },
  "language_info": {
   "codemirror_mode": {
    "name": "ipython",
    "version": 3
   },
   "file_extension": ".py",
   "mimetype": "text/x-python",
   "name": "python",
   "nbconvert_exporter": "python",
   "pygments_lexer": "ipython3",
   "version": "3.6.7"
  }
 },
 "nbformat": 4,
 "nbformat_minor": 2
}
