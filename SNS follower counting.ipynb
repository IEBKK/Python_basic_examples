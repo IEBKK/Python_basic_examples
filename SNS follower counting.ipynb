{
 "cells": [
  {
   "cell_type": "code",
   "execution_count": 1,
   "metadata": {},
   "outputs": [
    {
     "name": "stdout",
     "output_type": "stream",
     "text": [
      "Young 2 2\n",
      "Yoonsoo 1 3\n",
      "Taeho 2 0\n",
      "Lisa 1 1\n"
     ]
    }
   ],
   "source": [
    "class User:\n",
    "    # 초기값 설정\n",
    "    def __init__(self, name, email, password):\n",
    "        self.name = name\n",
    "        self.email = email\n",
    "        self.password = password\n",
    "        self.following_list = []    # 이 유저가 팔로우하는 유저 리스트\n",
    "        self.followers_list = []    # 이 유저를 팔로우하는 유저 리스트\n",
    "\n",
    "    # 팔로우\n",
    "    def follow(self, another_user):\n",
    "        # 코드를 입력하세요.\n",
    "        self.following_list.append(another_user)\n",
    "        another_user.followers_list.append(self)\n",
    "\n",
    "    # 몇명을 팔로우하는지 리턴\n",
    "    def num_following(self):\n",
    "        # 코드를 입력하세요.\n",
    "        return len(self.following_list)\n",
    "\n",
    "    # 팔로워가 몇명인지 리턴\n",
    "    def num_followers(self):\n",
    "        # 코드를 입력하세요.\n",
    "        return len(self.followers_list)\n",
    "\n",
    "# 유저들 생성\n",
    "user1 = User(\"Young\", \"young@codeit.kr\", \"123456\")\n",
    "user2 = User(\"Yoonsoo\", \"yoonsoo@codeit.kr\", \"abcdef\")\n",
    "user3 = User(\"Taeho\", \"taeho@codeit.kr\", \"123abc\")\n",
    "user4 = User(\"Lisa\", \"lisa@codeit.kr\", \"abc123\")\n",
    "\n",
    "\n",
    "# 테스트\n",
    "user1.follow(user2)\n",
    "user1.follow(user3)\n",
    "user2.follow(user1)\n",
    "user2.follow(user3)\n",
    "user2.follow(user4)\n",
    "user4.follow(user1)\n",
    "\n",
    "print(user1.name, user1.num_followers(), user1.num_following())\n",
    "print(user2.name, user2.num_followers(), user2.num_following())\n",
    "print(user3.name, user3.num_followers(), user3.num_following())\n",
    "print(user4.name, user4.num_followers(), user4.num_following())"
   ]
  },
  {
   "cell_type": "code",
   "execution_count": null,
   "metadata": {},
   "outputs": [],
   "source": []
  }
 ],
 "metadata": {
  "kernelspec": {
   "display_name": "Python 3",
   "language": "python",
   "name": "python3"
  },
  "language_info": {
   "codemirror_mode": {
    "name": "ipython",
    "version": 3
   },
   "file_extension": ".py",
   "mimetype": "text/x-python",
   "name": "python",
   "nbconvert_exporter": "python",
   "pygments_lexer": "ipython3",
   "version": "3.6.7"
  }
 },
 "nbformat": 4,
 "nbformat_minor": 2
}
