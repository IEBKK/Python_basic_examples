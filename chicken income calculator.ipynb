{
 "cells": [
  {
   "cell_type": "code",
   "execution_count": 12,
   "metadata": {},
   "outputs": [
    {
     "name": "stdout",
     "output_type": "stream",
     "text": [
      "31\n",
      "15559400\n",
      "501916.12903225806\n"
     ]
    }
   ],
   "source": [
    "in_file = open('chicken.txt', 'r')\n",
    "\n",
    "day = 0\n",
    "income = 0\n",
    "for line in in_file:\n",
    "    data = line.split()\n",
    "    day += 1\n",
    "    income += int(data[1])\n",
    "in_file.close()\n",
    "\n",
    "average = income / day\n",
    "print(average)"
   ]
  },
  {
   "cell_type": "code",
   "execution_count": null,
   "metadata": {},
   "outputs": [],
   "source": []
  }
 ],
 "metadata": {
  "kernelspec": {
   "display_name": "Python 3",
   "language": "python",
   "name": "python3"
  },
  "language_info": {
   "codemirror_mode": {
    "name": "ipython",
    "version": 3
   },
   "file_extension": ".py",
   "mimetype": "text/x-python",
   "name": "python",
   "nbconvert_exporter": "python",
   "pygments_lexer": "ipython3",
   "version": "3.6.7"
  }
 },
 "nbformat": 4,
 "nbformat_minor": 2
}
