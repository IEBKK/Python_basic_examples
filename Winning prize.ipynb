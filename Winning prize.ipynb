{
 "cells": [
  {
   "cell_type": "markdown",
   "metadata": {},
   "source": [
    "# 택이의 우승상금\n",
    "1988년 쌍문동에 사는 택이는 바둑대회 우승 상금으로 5000만원을 받았습니다. 하지만 바둑 외에는 아는게 없으니, 이웃 어른들에게 이 돈으로 무엇을 해야할지 물어보기로 하였습니다.\n",
    "은행에서 근무하는 동일 아저씨는, 은행에 돈을 맡겨서 매년 이자로 12%씩 받는 것을 추천하셨습니다. 1년 후인 1989년에는, 5000만원의 12% 이자인 600만원이 더해져 5600만원이 된다고 하면서요.\n",
    "이 이야기를 들은 미란 아주머니는 고작 12%때문에 생돈을 은행에 넣어 놓느냐며, 얼마 전 지어진 매매가 5000만원짜리 은마아파트를 살 것을 추천하셨습니다.\n",
    "2016년 현재 은마아파트의 매매가는 11억원입니다. while문과 if문을 사용해 1988년 은행에 5000만원을 넣었을 경우 2016년에 얼마나 있을지 계산하여, 동일 아저씨나 미란 아주머니 중 누구의 말을 듣는 것이 좋을지 판단해보세요.\n",
    "2016년에 은행에 저축해 둔 금액이 더 크다면, *원 차이로 동일 아저씨의 말씀이 맞습니다.가 출력되게 하세요. 하지만 은마 아파트의 가격이 더 크다면, *원 차이로 미란 아주머니의 말씀이 맞습니다.가 출력되게 하세요.\n",
    "(단 이자율은 매년 12%로 같다고 가정합니다.)\n",
    "<주의> 상수(변하지 않는 값)와 변수(변하는 값)을 구분하여 작성해주세요. 코드잇 스타일 가이드를 참고해주세요. \n",
    "<주의> 자동 채점 과제이기 때문에, 문제의 조건에 정확히 따라주시기 바랍니다. 띄어쓰기도 일치해야 합니다. \n",
    "답안:\n",
    "94193324원 차이로 동일 아저씨의 말씀이 맞습니다."
   ]
  },
  {
   "cell_type": "code",
   "execution_count": 13,
   "metadata": {},
   "outputs": [
    {
     "name": "stdout",
     "output_type": "stream",
     "text": [
      "94193324원 차이로 동일 아저씨의 말씀이 맞습니다.\n"
     ]
    }
   ],
   "source": [
    "prize = 50000000\n",
    "year = 1988\n",
    "APT = 1100000000\n",
    "INTEREST_RATE = 0.12\n",
    "\n",
    "while year < 2016:\n",
    "    prize = prize + (INTEREST_RATE * prize)\n",
    "    year = year + 1\n",
    "\n",
    "if (prize > APT):\n",
    "    print(\"%d원 차이로 동일 아저씨의 말씀이 맞습니다.\" % (prize - APT))\n",
    "else:\n",
    "    print(\"%d원 차이로 동일 아저씨의 말씀이 맞습니다.\" % (APT - prize))"
   ]
  },
  {
   "cell_type": "code",
   "execution_count": null,
   "metadata": {},
   "outputs": [],
   "source": []
  }
 ],
 "metadata": {
  "kernelspec": {
   "display_name": "Python 3",
   "language": "python",
   "name": "python3"
  },
  "language_info": {
   "codemirror_mode": {
    "name": "ipython",
    "version": 3
   },
   "file_extension": ".py",
   "mimetype": "text/x-python",
   "name": "python",
   "nbconvert_exporter": "python",
   "pygments_lexer": "ipython3",
   "version": "3.6.7"
  }
 },
 "nbformat": 4,
 "nbformat_minor": 2
}
