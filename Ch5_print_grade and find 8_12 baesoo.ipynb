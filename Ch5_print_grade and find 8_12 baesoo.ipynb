{
 "cells": [
  {
   "cell_type": "code",
   "execution_count": 1,
   "metadata": {},
   "outputs": [
    {
     "name": "stdout",
     "output_type": "stream",
     "text": [
      "You get an B\n",
      "You fail\n",
      "You get an D\n",
      "You get an A\n"
     ]
    }
   ],
   "source": [
    "def print_grade(midterm, final):\n",
    "    total = midterm + final\n",
    "    \n",
    "    if total >= 90:\n",
    "        print(\"You get an A\")\n",
    "    elif total >= 80:\n",
    "        print(\"You get an B\")\n",
    "    elif total >= 70:\n",
    "        print(\"You get an C\")\n",
    "    elif total >= 60:\n",
    "        print(\"You get an D\")\n",
    "    else:\n",
    "        print(\"You fail\")\n",
    "        \n",
    "print_grade(40, 45)\n",
    "print_grade(20, 35)\n",
    "print_grade(30, 32)\n",
    "print_grade(50, 45)\n"
   ]
  },
  {
   "cell_type": "code",
   "execution_count": 4,
   "metadata": {},
   "outputs": [
    {
     "name": "stdout",
     "output_type": "stream",
     "text": [
      "8\n",
      "16\n",
      "32\n",
      "40\n",
      "56\n",
      "64\n",
      "80\n",
      "88\n"
     ]
    }
   ],
   "source": [
    "num = 1\n",
    "while num <= 100:\n",
    "    if num % 8 == 0 and num % 12 != 0:\n",
    "        print(num)\n",
    "    num = num + 1"
   ]
  },
  {
   "cell_type": "code",
   "execution_count": null,
   "metadata": {},
   "outputs": [],
   "source": []
  }
 ],
 "metadata": {
  "kernelspec": {
   "display_name": "Python 3",
   "language": "python",
   "name": "python3"
  },
  "language_info": {
   "codemirror_mode": {
    "name": "ipython",
    "version": 3
   },
   "file_extension": ".py",
   "mimetype": "text/x-python",
   "name": "python",
   "nbconvert_exporter": "python",
   "pygments_lexer": "ipython3",
   "version": "3.6.7"
  }
 },
 "nbformat": 4,
 "nbformat_minor": 2
}
