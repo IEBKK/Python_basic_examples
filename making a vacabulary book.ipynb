{
 "cells": [
  {
   "cell_type": "code",
   "execution_count": null,
   "metadata": {},
   "outputs": [
    {
     "name": "stdout",
     "output_type": "stream",
     "text": [
      "영어단어를 입력하세요:\n",
      "cat\n",
      "한국어 뜻을 입력하세요:\n",
      "고양이\n",
      "영어단어를 입력하세요:\n",
      "apple\n",
      "한국어 뜻을 입력하세요:\n",
      "사과\n",
      "영어단어를 입력하세요:\n",
      "church\n",
      "한국어 뜻을 입력하세요:\n",
      "교회\n",
      "영어단어를 입력하세요:\n",
      "temple\n",
      "한국어 뜻을 입력하세요:\n",
      "절\n",
      "영어단어를 입력하세요:\n",
      "wallet\n",
      "한국어 뜻을 입력하세요:\n",
      "지갑\n",
      "영어단어를 입력하세요:\n",
      "backpack\n",
      "한국어 뜻을 입력하세요:\n",
      "책가방\n",
      "영어단어를 입력하세요:\n",
      "soap\n"
     ]
    }
   ],
   "source": [
    "# 단어장 만들기\n",
    "# 텍스트 파일 만들기\n",
    "out_file = open('vocabulary.txt', 'w')\n",
    "\n",
    "# 영어와 한국어 단어 텍스트 파일에 저장하기\n",
    "while True:\n",
    "    english_word = input(\"영어단어를 입력하세요:\\n\")\n",
    "    if english_word == \"q\":\n",
    "        break\n",
    "    korean_meaning = input(\"한국어 뜻을 입력하세요:\\n\")\n",
    "    if korean_meaning == \"q\":\n",
    "        break\n",
    "    out_file.write(\"%s: %s\\n\" % (english_word, korean_meaning))\n",
    "\n",
    "out_file.close()\n"
   ]
  },
  {
   "cell_type": "markdown",
   "metadata": {},
   "source": [
    "# 단어장 만들기\n",
    "영어 강사 Coy가 학생들의 영어 단어 암기를 위해 단어장 프로그램을 만들려고 합니다. 이 프로그램은 콘솔로 영어 단어와 한국어 뜻을 받고, vocabulary.txt라는 새로운 텍스트 파일에 단어와 뜻을 정리합니다.\n",
    "프로그램을 실행하면 영어 단어와 한국어 뜻을 입력할 수 있습니다. 단어-뜻을 입력할 때마다 vocabulary.txt에 단어가 정리됩니다. 프로그램을 끝내려면, 알파벳 q를 입력하면 됩니다."
   ]
  },
  {
   "cell_type": "code",
   "execution_count": null,
   "metadata": {},
   "outputs": [],
   "source": [
    "비누"
   ]
  }
 ],
 "metadata": {
  "kernelspec": {
   "display_name": "Python 3",
   "language": "python",
   "name": "python3"
  },
  "language_info": {
   "codemirror_mode": {
    "name": "ipython",
    "version": 3
   },
   "file_extension": ".py",
   "mimetype": "text/x-python",
   "name": "python",
   "nbconvert_exporter": "python",
   "pygments_lexer": "ipython3",
   "version": "3.6.7"
  }
 },
 "nbformat": 4,
 "nbformat_minor": 2
}
