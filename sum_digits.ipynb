{
 "cells": [
  {
   "cell_type": "markdown",
   "metadata": {},
   "source": [
    "# 자리수 합 구하기\n",
    "파라미터로 정수형 num의 값을 받는 sum_digit 함수를 쓰세요. sum_digit은 num의 각 자리수를 더한 값을 리턴해주는 역할을 합니다.\n",
    "예를 들어 12의 각 자리수는 1, 2이므로 sum_digit(12)는 3(1 + 2)을 리턴해줍니다.\n",
    "마찬가지로 486의 각 자리수는 4, 8, 6이므로 sum_digit(486)은 18(4 + 8 + 6)을 리턴해줍니다.\n",
    "for문을 사용하여, sum_digit(1)부터 sum_digit(1000)까지의 합을 구해보세요."
   ]
  },
  {
   "cell_type": "code",
   "execution_count": 1,
   "metadata": {},
   "outputs": [
    {
     "name": "stdout",
     "output_type": "stream",
     "text": [
      "13501\n"
     ]
    }
   ],
   "source": [
    "#자리수 할 리턴\n",
    "def sum_digit(num):\n",
    "    sum_digit = 0\n",
    "    num = str(num)\n",
    "    for i in range(len(num)):\n",
    "        sum_digit = sum_digit + int(num[i])\n",
    "    return sum_digit\n",
    "\n",
    "# sum_digit(1)부터 sum_digit(1000)까지의 합 구하기\n",
    "results = 0\n",
    "for i in range(1001):\n",
    "    results = results + sum_digit(i)\n",
    "print(results)"
   ]
  },
  {
   "cell_type": "code",
   "execution_count": null,
   "metadata": {},
   "outputs": [],
   "source": []
  }
 ],
 "metadata": {
  "kernelspec": {
   "display_name": "Python 3",
   "language": "python",
   "name": "python3"
  },
  "language_info": {
   "codemirror_mode": {
    "name": "ipython",
    "version": 3
   },
   "file_extension": ".py",
   "mimetype": "text/x-python",
   "name": "python",
   "nbconvert_exporter": "python",
   "pygments_lexer": "ipython3",
   "version": "3.6.7"
  }
 },
 "nbformat": 4,
 "nbformat_minor": 2
}
