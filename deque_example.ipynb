{
 "cells": [
  {
   "cell_type": "code",
   "execution_count": 1,
   "metadata": {},
   "outputs": [
    {
     "name": "stdout",
     "output_type": "stream",
     "text": [
      "deque([2, 3, 5, 7])\n",
      "4\n",
      "2\n",
      "deque([3, 5, 7])\n",
      "3\n",
      "3\n",
      "deque([5, 7])\n",
      "2\n"
     ]
    }
   ],
   "source": [
    "from collections import deque\n",
    "\n",
    "# 새로운 queue 생성\n",
    "numbers = deque()\n",
    "\n",
    "# queue에 값 추가\n",
    "numbers.append(2)\n",
    "numbers.append(3)\n",
    "numbers.append(5)\n",
    "numbers.append(7)\n",
    "\n",
    "print(numbers)\n",
    "print(len(numbers))\n",
    "\n",
    "# queue에서 하나 제거\n",
    "x = numbers.popleft()\n",
    "print(x)\n",
    "print(numbers)\n",
    "print(len(numbers))\n",
    "\n",
    "# queue에서 하나 제거\n",
    "x = numbers.popleft()\n",
    "print(x)\n",
    "print(numbers)\n",
    "print(len(numbers))"
   ]
  },
  {
   "cell_type": "code",
   "execution_count": null,
   "metadata": {},
   "outputs": [],
   "source": []
  }
 ],
 "metadata": {
  "kernelspec": {
   "display_name": "Python 3",
   "language": "python",
   "name": "python3"
  },
  "language_info": {
   "codemirror_mode": {
    "name": "ipython",
    "version": 3
   },
   "file_extension": ".py",
   "mimetype": "text/x-python",
   "name": "python",
   "nbconvert_exporter": "python",
   "pygments_lexer": "ipython3",
   "version": "3.6.8"
  }
 },
 "nbformat": 4,
 "nbformat_minor": 2
}
