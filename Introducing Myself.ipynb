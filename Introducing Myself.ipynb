{
 "cells": [
  {
   "cell_type": "code",
   "execution_count": 1,
   "metadata": {},
   "outputs": [
    {
     "name": "stdout",
     "output_type": "stream",
     "text": [
      "My name is Young\n",
      "My email address is young@codeit.kr\n",
      "My name is Young\n",
      "My email address is young@codeit.kr\n",
      "My name is Young\n",
      "My email address is young@codeit.kr\n"
     ]
    }
   ],
   "source": [
    "# sns의 유저\n",
    "class User:\n",
    "    # 초기값 설정\n",
    "    def __init__(self, name, email, password):\n",
    "        self.name = name\n",
    "        self.email = email\n",
    "        self.password = password\n",
    "\n",
    "    # 자기 소개 (이름, 이메일)\n",
    "    def introduce(self):\n",
    "        # 코드를 입력하세요.\n",
    "        print(\"My name is %s\" % (self.name))\n",
    "        print(\"My email address is %s\" % (self.email))\n",
    "\n",
    "    # 자기 소개 두번\n",
    "    def introduce_twice(self):\n",
    "        # 코드를 입력하세요.\n",
    "        self.introduce()\n",
    "        self.introduce()\n",
    "\n",
    "# 테스트\n",
    "user1 = User(\"Young\", \"young@codeit.kr\", \"123456\")\n",
    "user1.introduce()\n",
    "user1.introduce_twice()"
   ]
  },
  {
   "cell_type": "code",
   "execution_count": null,
   "metadata": {},
   "outputs": [],
   "source": []
  }
 ],
 "metadata": {
  "kernelspec": {
   "display_name": "Python 3",
   "language": "python",
   "name": "python3"
  },
  "language_info": {
   "codemirror_mode": {
    "name": "ipython",
    "version": 3
   },
   "file_extension": ".py",
   "mimetype": "text/x-python",
   "name": "python",
   "nbconvert_exporter": "python",
   "pygments_lexer": "ipython3",
   "version": "3.6.7"
  }
 },
 "nbformat": 4,
 "nbformat_minor": 2
}
