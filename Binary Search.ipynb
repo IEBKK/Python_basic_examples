{
 "cells": [
  {
   "cell_type": "markdown",
   "metadata": {},
   "source": [
    "# 이진 탐색 - 반복문\n",
    "'이진 탐색(Binary Search)' 알고리즘을 사용해서 어떤 원소가 리스트 안에 포함되어 있는지 확인하려고 합니다. 이진 탐색 알고리즘은 선형 탐색 알고리즘과 달리, 정렬된 리스트를 전제로 합니다. 정렬된 리스트가 아니면 이 알고리즘은 적용이 불가능합니다.\n",
    "왜 이 알고리즘의 이름이 '이진 탐색'일까요? 1회 비교를 거칠 때마다 탐색 범위가 절반으로 줄어들기 때문입니다.\n",
    "예시\n",
    "예를 들어 [1, 2, 3, 5, 8, 13, 21, 34, 55]에서 3을 찾는 경우, 알고리즘의 진행 방식은 다음과 같습니다:\n",
    "시도 1\n",
    "리스트의 첫 번째 인덱스와 마지막 인덱스의 값을 합하여 2로 나눈 후, 중간 인덱스로 지정합니다. 그리고 그 인덱스에 해당하는 값이 3인지 확인해봅니다.\n",
    "이 경우 리스트의 첫 번째 인덱스는 0이고 마지막 인덱스는 8이므로, 중간 인덱스는 4이고 해당 원소는 8입니다.\n",
    "찾고자 하는 원소(3)는 중간 원소(8)에 비해 작습니다. 리스트는 정렬되어있으므로, 인덱스 4~8은 탐색 범위에서 제외됩니다. 탐색 범위가 절반으로 줄어든 것이죠.\n",
    "시도 2\n",
    "탐색 범위는 이제 인덱스 0~3입니다. 탐색 범위의 리스트의 첫 번째 인덱스는 0이고 마지막 인덱스는 3이므로, 중간 인덱스는 (0 + 3) // 2인 1입니다. 인덱스 1에 해당 원소는 2이죠.\n",
    "찾고자 하는 원소(3)는 중간 원소(2)에 비해 큽니다. 리스트는 정렬되어 있으므로, 인덱스 0~1은 탐색 범위에서 제외됩니다. 탐색 범위가 다시 절반으로 줄어든 것이죠.\n",
    "시도 3\n",
    "탐색 범위는 이제 인덱스 2~3입니다. 탐색 범위의 리스트의 첫 번째 인덱스는 2이고 마지막 인덱스는 3이므로, 중간 인덱스는 (2 + 3) // 2인 2입니다. 인덱스 2에 해당하는 원소의 값은 3이죠.\n",
    "찾고자 하는 원소(3)는 중간에 해당하는 원소(3)와 일치합니다. 값을 찾았으니, 인덱스 2를 리턴해주며, 알고리즘을 종료합니다.\n",
    "\n",
    "재귀 대신 반복문을 사용하셔야 합니다. 재귀로 이진 탐색을 구현하는 것은 바로 다음 과제입니다!"
   ]
  },
  {
   "cell_type": "code",
   "execution_count": 1,
   "metadata": {},
   "outputs": [
    {
     "name": "stdout",
     "output_type": "stream",
     "text": [
      "0\n",
      "None\n",
      "2\n",
      "1\n",
      "4\n"
     ]
    }
   ],
   "source": [
    "def binary_search(element, some_list):\n",
    "    # 코드를 작성하세요.\n",
    "    \n",
    "    some_list = sorted(some_list)\n",
    "    start_index = 0\n",
    "    end_index = len(some_list) - 1\n",
    "    while start_index <= end_index:\n",
    "        mid_index = (start_index + end_index) // 2\n",
    "        if element == some_list[mid_index]:\n",
    "            return mid_index\n",
    "        elif element < some_list[mid_index]:\n",
    "            end_index = mid_index - 1\n",
    "        else:\n",
    "            start_index = mid_index + 1\n",
    "    return\n",
    "\n",
    "print(binary_search(2, [2, 3, 5, 7, 11]))\n",
    "print(binary_search(0, [2, 3, 5, 7, 11]))\n",
    "print(binary_search(5, [2, 3, 5, 7, 11]))\n",
    "print(binary_search(3, [2, 3, 5, 7, 11]))\n",
    "print(binary_search(11, [2, 3, 5, 7, 11]))"
   ]
  },
  {
   "cell_type": "markdown",
   "metadata": {},
   "source": [
    "# 이진 탐색 - 재귀\n",
    "'이진 탐색(Binary Search)' 알고리즘의 개념은 앞에서 설명되어 있고, 반복문을 사용하여 문제를 해결하셨을 것입니다. 이번에는 재귀(recursion)를 사용하여 문제를 해결해보세요!\n",
    "템플릿에 있는 함수 정의를 보시면 optional parameter를 사용하는데요. 이 내용이 기억 안 나시면 '추상화' 섹션의 '추상화 꿀팁' 노트를 보시면 됩니다!\n",
    "end_index의 기본값을 None으로 설정한 후, 함수 내에서 len(some_list) - 1로 바꾼 이유가 궁금하실 것입니다. 파라미터를 받을 때 파이썬은 some_list의 존재를 모르기 때문에, 정의를 이렇게:\n",
    "def binary_search(element, some_list, start_index = 0, end_index = len(some_list) - 1):\n",
    "쓰면 이런 오류 메시지가 나옵니다:\n",
    "NameError: name 'some_list' is not defined\n",
    "이 때문에 먼저 None으로 설정한 후, 함수 안에서 end_index의 값이 특별히 설정되지 않았을 경우에는 end_index를 len(some_list) - 1로 바꾸어주는 것입니다.\n",
    "\n",
    "반드시 재귀(recursion)의 개념을 사용하셔야 합니다. 이진 탐색 개념이 꽤 어려우니, 천천히 고민해보시기 바랍니다!\n",
    "평소 재귀 문제를 풀 때처럼 Base Case와 Recursive Case를 생각하시는 것이 핵심입니다!"
   ]
  },
  {
   "cell_type": "code",
   "execution_count": null,
   "metadata": {},
   "outputs": [],
   "source": [
    "def binary_search(element, some_list, start_index = 0, end_index = None):\n",
    "    if end_index == None:\n",
    "        end_index = len(some_list) - 1\n",
    "    \n",
    "    mid_index = (start_index + end_index) // 2\n",
    "    \n",
    "    if start_index > end_index:\n",
    "        return None\n",
    "    \n",
    "    if element == some_list[mid_index]:\n",
    "        return mid_index\n",
    "       \n",
    "    elif element < some_list[mid_index]:\n",
    "        end_index = mid_index - 1 \n",
    "        return binary_search(element, some_list, start_index, end_index)\n",
    "    else:\n",
    "        start_index = mid_index + 1\n",
    "        return binary_search(element, some_list, start_index, end_index)"
   ]
  }
 ],
 "metadata": {
  "kernelspec": {
   "display_name": "Python 3",
   "language": "python",
   "name": "python3"
  },
  "language_info": {
   "codemirror_mode": {
    "name": "ipython",
    "version": 3
   },
   "file_extension": ".py",
   "mimetype": "text/x-python",
   "name": "python",
   "nbconvert_exporter": "python",
   "pygments_lexer": "ipython3",
   "version": "3.6.7"
  }
 },
 "nbformat": 4,
 "nbformat_minor": 2
}
