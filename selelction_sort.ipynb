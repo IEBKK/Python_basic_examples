{
 "cells": [
  {
   "cell_type": "code",
   "execution_count": 8,
   "metadata": {},
   "outputs": [
    {
     "name": "stdout",
     "output_type": "stream",
     "text": [
      "[1, 2, 3, 4, 6, 11, 12]\n"
     ]
    }
   ],
   "source": [
    "# 선택 정렬\n",
    "def selection_sort(my_list):\n",
    "    # 코드를 입력하세요.\n",
    "    \n",
    "    for i in range(len(my_list)):\n",
    "                \n",
    "        for j in range(i + 1, len(my_list)):\n",
    "            value = my_list[j]\n",
    "            if value < my_list[i]:\n",
    "                                \n",
    "                temp = my_list[i]\n",
    "                my_list[i] = value\n",
    "                my_list[j] = temp\n",
    "    return my_list\n",
    "        \n",
    "            \n",
    "\n",
    "some_list = [11, 3, 6, 4, 12, 1, 2]\n",
    "selection_sort(some_list)\n",
    "print(some_list)\n",
    "\n"
   ]
  },
  {
   "cell_type": "code",
   "execution_count": null,
   "metadata": {},
   "outputs": [],
   "source": []
  },
  {
   "cell_type": "code",
   "execution_count": null,
   "metadata": {},
   "outputs": [],
   "source": []
  },
  {
   "cell_type": "code",
   "execution_count": null,
   "metadata": {},
   "outputs": [],
   "source": []
  }
 ],
 "metadata": {
  "kernelspec": {
   "display_name": "Python 3",
   "language": "python",
   "name": "python3"
  },
  "language_info": {
   "codemirror_mode": {
    "name": "ipython",
    "version": 3
   },
   "file_extension": ".py",
   "mimetype": "text/x-python",
   "name": "python",
   "nbconvert_exporter": "python",
   "pygments_lexer": "ipython3",
   "version": "3.6.7"
  }
 },
 "nbformat": 4,
 "nbformat_minor": 2
}
